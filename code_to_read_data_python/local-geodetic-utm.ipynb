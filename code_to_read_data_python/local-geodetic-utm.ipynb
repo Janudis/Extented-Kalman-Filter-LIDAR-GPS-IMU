{
 "cells": [
  {
   "cell_type": "code",
   "execution_count": null,
   "metadata": {},
   "outputs": [],
   "source": [
    "#from local map frame to WGS84\n",
    "import csv\n",
    "from pyproj import CRS, Transformer\n",
    "\n",
    "# Define your Proj4 projection string\n",
    "proj4_projection = '+proj=tmerc +lat_0=41.147205 +lon_0=24.916002 +k=1 +x_0=0 +y_0=0 +datum=WGS84 +units=m +geoidgrids=egm96_15.gtx +vunits=m +no_defs'\n",
    "\n",
    "# Define a list of points in local coordinates\n",
    "local_points = [(-196.792, -754.354), (-81.723, -737.749), (-40.923, -731.979), (-40.382, -709.044), (-56.963, -410.964), (-42.683, -327.620), (-27.476, -307.443), (95.751, -369.536), (129.986, -338.588), (-267.776, -776.406), (-402.005, -796.437), (-435.531, -791.255), (-453.974, -787.135), (-448.978, -754.746), (-450.883, -739.529), (-463.431, -716.409), (-464.410, -707.261), (-466.621, -605.288), (-467.583, -590.299), (-491.636, -496.771), (-480.782, -437.007)]  # Add your points here\n",
    "\n",
    "# Create a CRS object from the Proj4 string\n",
    "crs = CRS.from_string(proj4_projection)\n",
    "\n",
    "# Create a transformer object that converts from the local coordinate system to WGS84\n",
    "transformer = Transformer.from_crs(crs, CRS.from_epsg(4326), always_xy=True)\n",
    "\n",
    "# Open a file in write mode\n",
    "with open('D:/Python_Projects/Extented-Kalman-Filter/fusion_camera_gps_imu_without_Eigen/cmake-build-debug/lidar_gt_geodetic.csv', 'w', newline='') as file:\n",
    "    writer = csv.writer(file)\n",
    "    # Write the header\n",
    "    writer.writerow([\"Local_X\", \"Local_Y\", \"Lidar_Latitude\", \"Lidar_Longitude\"])\n",
    "    \n",
    "    # Loop over the points\n",
    "    for local_x, local_y in local_points:\n",
    "        # Transform the point to geodetic coordinates\n",
    "        Lidar_Longitude, Lidar_Latitude = transformer.transform(local_x, local_y)\n",
    "        \n",
    "        # Write the local and geodetic coordinates to the CSV file\n",
    "        writer.writerow([local_x, local_y, Lidar_Latitude, Lidar_Longitude])\n",
    "\n",
    "print(\"The coordinates have been written to output.csv.\")\n"
   ]
  },
  {
   "cell_type": "code",
   "execution_count": 1,
   "metadata": {},
   "outputs": [
    {
     "name": "stdout",
     "output_type": "stream",
     "text": [
      "CSV file 'D:/Python_Projects/Extented-Kalman-Filter/fusion_camera_gps_imu_without_Eigen/cmake-build-debug/lidar_gt_gmap_geodetic.csv' has been created.\n"
     ]
    }
   ],
   "source": [
    "#WGS 84 TO UTM 35\n",
    "\n",
    "import csv\n",
    "\n",
    "lidar_gt_map = [(41.140181, 24.913070), (41.140201, 24.913248), (41.140222, 24.913369), (41.140252, 24.913729), \n",
    "                (41.140403, 24.915008), (41.140624, 24.915564), (41.140944, 24.915670), (41.144129, 24.915594), (41.143828, 24.917306), \n",
    "                (41.144397, 24.915926), (41.143978, 24.915451), (41.140487, 24.915000), (41.140334, 24.913689), (41.140325, 24.913575), (41.139977, 24.911197), \n",
    "                (41.140028, 24.911016), (41.140234, 24.910826), (41.140259, 24.910724), (41.140390, 24.910800), (41.140599, 24.910783), \n",
    "                (41.140657, 24.910664), (41.140771, 24.910644), (41.141707, 24.910612), (41.141847, 24.910730), (41.142215, 24.910407), \n",
    "                (41.142356, 24.910512), (41.142482, 24.910501), (41.143100, 24.910397)]  # Add your points here\n",
    "\n",
    "csv_filename = \"D:/Python_Projects/Extented-Kalman-Filter/fusion_camera_gps_imu_without_Eigen/cmake-build-debug/lidar_gt_gmap_geodetic.csv\"\n",
    "\n",
    "with open(csv_filename, mode='w', newline='') as file:\n",
    "    writer = csv.writer(file)\n",
    "    writer.writerow([\"latitude\", \"longitude\"])  # Write header\n",
    "    for point in lidar_gt_map:\n",
    "        writer.writerow(point)\n",
    "\n",
    "print(f\"CSV file '{csv_filename}' has been created.\")"
   ]
  },
  {
   "cell_type": "code",
   "execution_count": 4,
   "metadata": {},
   "outputs": [
    {
     "name": "stdout",
     "output_type": "stream",
     "text": [
      "CSV file 'D:/Python_Projects/Extented-Kalman-Filter/fusion_camera_gps_imu_without_Eigen/cmake-build-debug/lidar_gt_gearth_geodetic.csv' has been created.\n"
     ]
    }
   ],
   "source": [
    "#WGS 84 TO UTM 35\n",
    "\n",
    "import csv\n",
    "\n",
    "lidar_gt_map = [( 41.139972, 24.911188), ( 41.140021, 24.911006), (41.140221, 24.910826), ( 41.140255, 24.910713), \n",
    "                (41.140374, 24.910798), (41.140599, 24.910770), (41.140660, 24.910648), (41.140764, 24.910629), (41.141698, 24.910613), \n",
    "                (41.142207, 24.910394), (41.142357, 24.910506), (41.142480, 24.910496), (41.143089, 24.910391)]  # Add your points here\n",
    "\n",
    "csv_filename = \"D:/Python_Projects/Extented-Kalman-Filter/fusion_camera_gps_imu_without_Eigen/cmake-build-debug/lidar_gt_gearth_geodetic.csv\"\n",
    "\n",
    "with open(csv_filename, mode='w', newline='') as file:\n",
    "    writer = csv.writer(file)\n",
    "    writer.writerow([\"latitude\", \"longitude\"])  # Write header\n",
    "    for point in lidar_gt_map:\n",
    "        writer.writerow(point)\n",
    "\n",
    "print(f\"CSV file '{csv_filename}' has been created.\")"
   ]
  },
  {
   "cell_type": "code",
   "execution_count": 2,
   "metadata": {},
   "outputs": [
    {
     "name": "stdout",
     "output_type": "stream",
     "text": [
      "CSV file 'D:/Python_Projects/Extented-Kalman-Filter/fusion_camera_gps_imu_without_Eigen/cmake-build-debug/lidar_gt_qgis_utm.csv' has been created.\n"
     ]
    }
   ],
   "source": [
    "#write UTM 35 points to csv\n",
    "import csv\n",
    "\n",
    "lidar_gt_map = [(828274.63159754, 4561673.14295073), (828259.22546572, 4561677.87093551), (828242.75515322, 4561699.59322718), \n",
    "                (828233.31097990, 4561702.77508114), (828239.89765322, 4561716.28843551), (828236.57044167, 4561740.94877849), \n",
    "                (828225.78205625, 4561747.16648682), (828223.87463114, 4561759.06952714), (828217.72417084, 4561862.94153890), \n",
    "                (828196.74800417, 4561918.56753890), \n",
    "                (828205.44750417, 4561935.83953890), (828203.94467084, 4561949.25920557), (828192.04900417, 4562016.46337223)]  # Add your points here\n",
    "\n",
    "csv_filename = \"D:/Python_Projects/Extented-Kalman-Filter/fusion_camera_gps_imu_without_Eigen/cmake-build-debug/lidar_gt_qgis_utm.csv\"\n",
    "\n",
    "with open(csv_filename, mode='w', newline='') as file:\n",
    "    writer = csv.writer(file)\n",
    "    writer.writerow([\"easting\", \"northing\"])  # Write header\n",
    "    for point in lidar_gt_map:\n",
    "        writer.writerow(point)\n",
    "\n",
    "print(f\"CSV file '{csv_filename}' has been created.\")"
   ]
  },
  {
   "cell_type": "code",
   "execution_count": 1,
   "metadata": {},
   "outputs": [
    {
     "name": "stdout",
     "output_type": "stream",
     "text": [
      "CSV file 'D:/Python_Projects/Extented-Kalman-Filter/fusion_camera_gps_imu_without_Eigen/cmake-build-debug/lidar_gt_rtk_geodetic.csv' has been created.\n"
     ]
    }
   ],
   "source": [
    "#WGS 84 TO UTM 35\n",
    "import csv\n",
    "\n",
    "lidar_gt_map = [(41.1399696807172, 24.9111693450354), (41.1400184356945, 24.9109865115305), (41.1402173611499, 24.9108057314785), \n",
    "                (41.1402534106781, 24.9106940348915), (41.1403711288923, 24.9107789401111), (41.1405934336353, 24.9107514286064), \n",
    "                (41.1406586995924, 24.9106255271286), (41.1407625100201, 24.9106089945076), (41.1416975960697, 24.9105947135484), \n",
    "                (41.1418418227386, 24.910610304319), #9.5\n",
    "                (41.1422066857825, 24.9103729612621), (41.1423549199475, 24.910485553827), (41.1424789222332, 24.9104774502784),\n",
    "                (41.1430892178079, 24.9103715105255)]  # Add your points here\n",
    "\n",
    "csv_filename = \"D:/Python_Projects/Extented-Kalman-Filter/fusion_camera_gps_imu_without_Eigen/cmake-build-debug/lidar_gt_rtk_geodetic.csv\"\n",
    "\n",
    "with open(csv_filename, mode='w', newline='') as file:\n",
    "    writer = csv.writer(file)\n",
    "    writer.writerow([\"easting\", \"northing\"])  # Write header\n",
    "    for point in lidar_gt_map:\n",
    "        writer.writerow(point)\n",
    "\n",
    "print(f\"CSV file '{csv_filename}' has been created.\")"
   ]
  },
  {
   "cell_type": "code",
   "execution_count": 1,
   "metadata": {},
   "outputs": [
    {
     "name": "stdout",
     "output_type": "stream",
     "text": [
      "CSV file 'D:/Python_Projects/Extented-Kalman-Filter/fusion_camera_gps_imu_without_Eigen/cmake-build-debug/lidar_gt_rtk_geodetic2.csv' has been created.\n"
     ]
    }
   ],
   "source": [
    "#WGS 84 TO UTM 35\n",
    "import csv\n",
    "\n",
    "lidar_gt_map = [(41.14573152489472, 24.91520466128435), (41.14573631367806, 24.91561428198163), (41.14583835801549, 24.91555596455692),\n",
    "                (41.14579364340399, 24.91772372064246), (41.14584363919332, 24.91770756792248), (41.14409656288916, 24.91764851106096), \n",
    "                (41.14381754298496, 24.91730062935123), (41.14439009471534, 24.91591291858069), (41.14411469157751, 24.91557512628285), \n",
    "                (41.14397058918622, 24.91543178555259), #9.5\n",
    "                (41.14093472121779, 24.91565491605505), (41.14060833106329, 24.91556107010412), (41.14048315495820, 24.91499356080372),\n",
    "                (41.14039524694877, 24.91500388505814), #14\n",
    "                (41.14033147875498, 24.91370019240304), (41.14023779071322, 24.91372378337820), (41.14031701523598, 24.91356011677499),\n",
    "                (41.14021237293101, 24.91335207580409), (41.14017787162981, 24.91324773082223), (41.14017761202961, 24.91304980090989), \n",
    "                (41.13996856328379, 24.91118126944191), (41.14001731827909, 24.91099843595190), (41.14021624374957, 24.91081765594199), \n",
    "                (41.14025229328869, 24.91070595936527), #9.5\n",
    "                (41.14037001149180, 24.91079086460344), (41.14059231623335, 24.91076335314013), (41.14065758220231, 24.91063745167835),\n",
    "                (41.14076139262978, 24.91062091907674), #28\n",
    "                (41.14169647866301, 24.91060663828815), (41.14184070532747, 24.91062222908456), (41.14220556838914, 24.91038488610179),\n",
    "                (41.14235380253952, 24.91049747868995), (41.14247780482370, 24.91048937516419), (41.14308810039779, 24.91038343552587), \n",
    "                (41.14273044111775, 24.91171890199980), (41.14265148942714, 24.91251844469129)\n",
    "                ]  # Add your points here\n",
    "\n",
    "csv_filename = \"D:/Python_Projects/Extented-Kalman-Filter/fusion_camera_gps_imu_without_Eigen/cmake-build-debug/lidar_gt_rtk_geodetic2.csv\"\n",
    "\n",
    "with open(csv_filename, mode='w', newline='') as file:\n",
    "    writer = csv.writer(file)\n",
    "    writer.writerow([\"easting\", \"northing\"])  # Write header\n",
    "    for point in lidar_gt_map:\n",
    "        writer.writerow(point)\n",
    "\n",
    "print(f\"CSV file '{csv_filename}' has been created.\")"
   ]
  },
  {
   "cell_type": "code",
   "execution_count": 1,
   "metadata": {},
   "outputs": [
    {
     "name": "stdout",
     "output_type": "stream",
     "text": [
      "Easting Correct : 324679.21408689895\n",
      "Northing Correct : 4556405.232300359\n",
      "Easting: 324680.2971955831\n",
      "Northing: 4556404.873049771\n"
     ]
    }
   ],
   "source": [
    "# TESTING\n",
    "import numpy as np\n",
    "import pyproj\n",
    "# Define the UTM zone and ellipsoid parameters\n",
    "utm_zone = 35  # Replace with the appropriate UTM zone for your location\n",
    "ellps = \"WGS84\"  # The ellipsoid used for the projection\n",
    "\n",
    "# Create a UTM projection object\n",
    "utm_projection = pyproj.Proj(proj=\"utm\", zone=utm_zone, ellps=ellps)\n",
    "\n",
    "# Convert geographic coordinates to UTM coordinates\n",
    "eastingC, northingC = utm_projection(24.911003, 41.140031)\n",
    "easting2, northing2 = utm_projection(24.911016, 41.140028)\n",
    "\n",
    "print(\"Easting Correct :\", eastingC)\n",
    "print(\"Northing Correct :\", northingC)\n",
    "\n",
    "print(\"Easting:\", easting2)\n",
    "print(\"Northing:\", northing2)\n",
    "# 16 24.911016, 41.140028\n",
    "# 15 24.911197, 41.139977"
   ]
  }
 ],
 "metadata": {
  "kernelspec": {
   "display_name": "geopanda",
   "language": "python",
   "name": "python3"
  },
  "language_info": {
   "codemirror_mode": {
    "name": "ipython",
    "version": 3
   },
   "file_extension": ".py",
   "mimetype": "text/x-python",
   "name": "python",
   "nbconvert_exporter": "python",
   "pygments_lexer": "ipython3",
   "version": "3.10.12"
  },
  "orig_nbformat": 4
 },
 "nbformat": 4,
 "nbformat_minor": 2
}
